{
  "nbformat": 4,
  "nbformat_minor": 0,
  "metadata": {
    "colab": {
      "name": "naive_bayes_from_scratch.ipynb",
      "version": "0.3.2",
      "provenance": [],
      "collapsed_sections": [],
      "include_colab_link": true
    },
    "kernelspec": {
      "name": "python3",
      "display_name": "Python 3"
    }
  },
  "cells": [
    {
      "cell_type": "markdown",
      "metadata": {
        "id": "view-in-github",
        "colab_type": "text"
      },
      "source": [
        "[View in Colaboratory](https://colab.research.google.com/github/juanjosr10/naive_bayes/blob/master/naive_bayes_from_scratch.ipynb)"
      ]
    },
    {
      "metadata": {
        "id": "ZLweRiEbbTL5",
        "colab_type": "code",
        "colab": {
          "base_uri": "https://localhost:8080/",
          "height": 37
        },
        "outputId": "b5451850-5378-404c-ddc6-a71e0b93cf4c"
      },
      "cell_type": "code",
      "source": [
        "reset -fs"
      ],
      "execution_count": 0,
      "outputs": []
    },
    {
      "metadata": {
        "id": "w2Y_9L5lP09d",
        "colab_type": "code",
        "colab": {}
      },
      "cell_type": "code",
      "source": [
        ""
      ],
      "execution_count": 0,
      "outputs": []
    },
    {
      "metadata": {
        "id": "9rdld7-0P1Ph",
        "colab_type": "code",
        "colab": {}
      },
      "cell_type": "code",
      "source": [
        ""
      ],
      "execution_count": 0,
      "outputs": []
    },
    {
      "metadata": {
        "id": "TZ0pV9dHI9Yf",
        "colab_type": "text"
      },
      "cell_type": "markdown",
      "source": [
        ""
      ]
    },
    {
      "metadata": {
        "id": "jFm7urqcIy7j",
        "colab_type": "code",
        "colab": {}
      },
      "cell_type": "code",
      "source": [
        ""
      ],
      "execution_count": 0,
      "outputs": []
    },
    {
      "metadata": {
        "id": "W_4OUpw6bYvl",
        "colab_type": "code",
        "colab": {
          "base_uri": "https://localhost:8080/",
          "height": 17
        },
        "outputId": "8ad55c81-6fa4-437f-ace1-a72a4e025f90"
      },
      "cell_type": "code",
      "source": [
        "from collections import namedtuple"
      ],
      "execution_count": 2,
      "outputs": []
    },
    {
      "metadata": {
        "id": "TiFYBLOYbbq-",
        "colab_type": "code",
        "colab": {
          "base_uri": "https://localhost:8080/",
          "height": 17
        },
        "outputId": "bdc77841-8ca6-4483-881a-83dfafacd783"
      },
      "cell_type": "code",
      "source": [
        "Data = namedtuple('data', 'id_num label tokens') "
      ],
      "execution_count": 3,
      "outputs": []
    },
    {
      "metadata": {
        "id": "7F4HQAGhbctH",
        "colab_type": "code",
        "colab": {
          "base_uri": "https://localhost:8080/",
          "height": 37
        },
        "outputId": "62f33d83-49e5-4813-a79f-895eb32d066e"
      },
      "cell_type": "code",
      "source": [
        "data = Data(id_num=42, label='cat', tokens=\"🐯 😺 🐩 😺\".split())"
      ],
      "execution_count": 5,
      "outputs": []
    },
    {
      "metadata": {
        "id": "2jrvqhlQbfAz",
        "colab_type": "code",
        "colab": {
          "base_uri": "https://localhost:8080/",
          "height": 37
        },
        "outputId": "519b6222-8a8e-46ec-c204-eb24303ca8c2"
      },
      "cell_type": "code",
      "source": [
        "train = [Data(42,  'cat',  \"🐈 🐯 😺 🐩 😺\".split()),\n",
        "         Data(43, 'dog',  \"🐶 🐶 🐈 🐶 🐩 🐈 🐶 🐶\".split()),\n",
        "         Data(45, 'cat',  \"🐈 🐈 🐶 🐈\".split()),\n",
        "         Data(45, 'cat',  \"🐈 🐈 🐈\".split()),\n",
        "         Data(48, 'dog',  \"🐶 🐶 🐈 🐩  🐩 🐶 🐶\".split()),\n",
        "        ]\n",
        "\n"
      ],
      "execution_count": 10,
      "outputs": []
    },
    {
      "metadata": {
        "id": "SkJW96DIRjo2",
        "colab_type": "text"
      },
      "cell_type": "markdown",
      "source": [
        "CALCULATE Document Class Priors"
      ]
    },
    {
      "metadata": {
        "id": "vOxDY5y0bgPT",
        "colab_type": "code",
        "colab": {
          "base_uri": "https://localhost:8080/",
          "height": 37
        },
        "outputId": "4ffb8cae-e105-4b7b-ac8c-a4115b5a71d1"
      },
      "cell_type": "code",
      "source": [
        "labels = {d.label for d in train}"
      ],
      "execution_count": 7,
      "outputs": []
    },
    {
      "metadata": {
        "id": "C2QV-yDAbh1V",
        "colab_type": "code",
        "colab": {
          "base_uri": "https://localhost:8080/",
          "height": 34
        },
        "outputId": "bc4b441e-2076-42c5-87bf-0c18b3a99c49"
      },
      "cell_type": "code",
      "source": [
        "labels\n"
      ],
      "execution_count": 8,
      "outputs": [
        {
          "output_type": "execute_result",
          "data": {
            "text/plain": [
              "{'cat', 'dog'}"
            ]
          },
          "metadata": {
            "tags": []
          },
          "execution_count": 8
        }
      ]
    },
    {
      "metadata": {
        "id": "fzggsDqHbiCa",
        "colab_type": "code",
        "colab": {
          "base_uri": "https://localhost:8080/",
          "height": 34
        },
        "outputId": "63495ce2-89e6-4282-c250-d4a53947efe7"
      },
      "cell_type": "code",
      "source": [
        "n_docs = len(train)\n",
        "n_docs"
      ],
      "execution_count": 9,
      "outputs": [
        {
          "output_type": "execute_result",
          "data": {
            "text/plain": [
              "5"
            ]
          },
          "metadata": {
            "tags": []
          },
          "execution_count": 9
        }
      ]
    },
    {
      "metadata": {
        "id": "-FI6EIJtJkI8",
        "colab_type": "code",
        "colab": {
          "base_uri": "https://localhost:8080/",
          "height": 37
        },
        "outputId": "741c66a3-8097-42b7-d1b4-21e2fa152e98"
      },
      "cell_type": "code",
      "source": [
        "from collections import defaultdict"
      ],
      "execution_count": 12,
      "outputs": []
    },
    {
      "metadata": {
        "id": "O3gIcmSVbiFq",
        "colab_type": "code",
        "colab": {
          "base_uri": "https://localhost:8080/",
          "height": 37
        },
        "outputId": "eda8b490-042c-410b-b500-0806161b03a7"
      },
      "cell_type": "code",
      "source": [
        "docs_priors = defaultdict(float)"
      ],
      "execution_count": 13,
      "outputs": []
    },
    {
      "metadata": {
        "id": "ZVFOqbQhbiLq",
        "colab_type": "code",
        "colab": {
          "base_uri": "https://localhost:8080/",
          "height": 34
        },
        "outputId": "a9799b27-ca49-43e0-f0db-4b74e93c2f71"
      },
      "cell_type": "code",
      "source": [
        "for label in labels:\n",
        "  docs_priors[label] = sum(1 for d in train if d.label == label) / n_docs\n",
        "docs_priors"
      ],
      "execution_count": 17,
      "outputs": [
        {
          "output_type": "execute_result",
          "data": {
            "text/plain": [
              "defaultdict(float, {'cat': 0.6, 'dog': 0.4})"
            ]
          },
          "metadata": {
            "tags": []
          },
          "execution_count": 17
        }
      ]
    },
    {
      "metadata": {
        "id": "4_vFNYwGbiPL",
        "colab_type": "code",
        "colab": {}
      },
      "cell_type": "code",
      "source": [
        ""
      ],
      "execution_count": 0,
      "outputs": []
    },
    {
      "metadata": {
        "id": "fbF9MrCnSXmy",
        "colab_type": "text"
      },
      "cell_type": "markdown",
      "source": [
        "Calculate Conditional probabilities of each word for each class\n"
      ]
    },
    {
      "metadata": {
        "id": "9v2kUU1QbiSR",
        "colab_type": "code",
        "colab": {
          "base_uri": "https://localhost:8080/",
          "height": 476
        },
        "outputId": "2f1712d7-8840-4b40-a7a2-f99f749bf1e5"
      },
      "cell_type": "code",
      "source": [
        "vocab = []\n",
        "for doc in train:\n",
        "  vocab.extend(doc.tokens)\n",
        "vocab"
      ],
      "execution_count": 19,
      "outputs": [
        {
          "output_type": "execute_result",
          "data": {
            "text/plain": [
              "['🐈',\n",
              " '🐯',\n",
              " '😺',\n",
              " '🐩',\n",
              " '😺',\n",
              " '🐶',\n",
              " '🐶',\n",
              " '🐈',\n",
              " '🐶',\n",
              " '🐩',\n",
              " '🐈',\n",
              " '🐶',\n",
              " '🐶',\n",
              " '🐈',\n",
              " '🐈',\n",
              " '🐶',\n",
              " '🐈',\n",
              " '🐈',\n",
              " '🐈',\n",
              " '🐈',\n",
              " '🐶',\n",
              " '🐶',\n",
              " '🐈',\n",
              " '🐩',\n",
              " '🐩',\n",
              " '🐶',\n",
              " '🐶']"
            ]
          },
          "metadata": {
            "tags": []
          },
          "execution_count": 19
        }
      ]
    },
    {
      "metadata": {
        "id": "06opXiKYbiVR",
        "colab_type": "code",
        "colab": {
          "base_uri": "https://localhost:8080/",
          "height": 34
        },
        "outputId": "ac05ae7d-809d-4724-f7be-ee24f35ad413"
      },
      "cell_type": "code",
      "source": [
        "set(vocab)"
      ],
      "execution_count": 20,
      "outputs": [
        {
          "output_type": "execute_result",
          "data": {
            "text/plain": [
              "{'🐈', '🐩', '🐯', '🐶', '😺'}"
            ]
          },
          "metadata": {
            "tags": []
          },
          "execution_count": 20
        }
      ]
    },
    {
      "metadata": {
        "id": "rPsezLCIS4OT",
        "colab_type": "code",
        "colab": {
          "base_uri": "https://localhost:8080/",
          "height": 34
        },
        "outputId": "1e0e52d3-cbec-4aae-c1e7-8cb7717a3053"
      },
      "cell_type": "code",
      "source": [
        "v = len(set(vocab))\n",
        "v"
      ],
      "execution_count": 21,
      "outputs": [
        {
          "output_type": "execute_result",
          "data": {
            "text/plain": [
              "5"
            ]
          },
          "metadata": {
            "tags": []
          },
          "execution_count": 21
        }
      ]
    },
    {
      "metadata": {
        "id": "4CtG1NdJS80M",
        "colab_type": "code",
        "colab": {
          "base_uri": "https://localhost:8080/",
          "height": 17
        },
        "outputId": "17dfe332-7d4b-491b-b6f8-7352eeac7722"
      },
      "cell_type": "code",
      "source": [
        "cond_prob = defaultdict(lambda: defaultdict(float))"
      ],
      "execution_count": 23,
      "outputs": []
    },
    {
      "metadata": {
        "id": "tqmCIjZpTNmJ",
        "colab_type": "code",
        "colab": {
          "base_uri": "https://localhost:8080/",
          "height": 170
        },
        "outputId": "216aba88-d4fe-40b0-b5f7-889fc8ae2511"
      },
      "cell_type": "code",
      "source": [
        "for label in labels:\n",
        "  label_tokens = []\n",
        "  for doc in train:\n",
        "    if doc.label == label:\n",
        "      label_tokens.extend(doc.tokens)\n",
        "  \n",
        "  for token in vocab:\n",
        "    cond_prob[label][token] = (label_tokens.count(token)) / len(label_tokens)\n",
        "    \n",
        "cond_prob"
      ],
      "execution_count": 27,
      "outputs": [
        {
          "output_type": "execute_result",
          "data": {
            "text/plain": [
              "defaultdict(<function __main__.<lambda>>,\n",
              "            {'cat': defaultdict(float,\n",
              "                         {'🐈': 0.5833333333333334,\n",
              "                          '🐩': 0.08333333333333333,\n",
              "                          '🐯': 0.08333333333333333,\n",
              "                          '🐶': 0.08333333333333333,\n",
              "                          '😺': 0.16666666666666666}),\n",
              "             'dog': defaultdict(float,\n",
              "                         {'🐈': 0.2, '🐩': 0.2, '🐯': 0.0, '🐶': 0.6, '😺': 0.0})})"
            ]
          },
          "metadata": {
            "tags": []
          },
          "execution_count": 27
        }
      ]
    },
    {
      "metadata": {
        "id": "P1JIr3yMTNtd",
        "colab_type": "code",
        "colab": {
          "base_uri": "https://localhost:8080/",
          "height": 17
        },
        "outputId": "648f98f8-3c09-4d95-e617-405eb88c97cf"
      },
      "cell_type": "code",
      "source": [
        "for label in labels:\n",
        "  assert round(sum(cond_prob[label].values())) == 1"
      ],
      "execution_count": 31,
      "outputs": []
    },
    {
      "metadata": {
        "id": "SFdHO4WCTN08",
        "colab_type": "code",
        "colab": {
          "base_uri": "https://localhost:8080/",
          "height": 37
        },
        "outputId": "416e9747-9f75-4a6c-9c78-5da2e907f71e"
      },
      "cell_type": "code",
      "source": [
        "# predict label for a new document\n",
        "import operator\n",
        "from functools import reduce\n",
        "\n",
        "def product(it):\n",
        "  return reduce(operator.mul, it, 1)\n",
        "\n"
      ],
      "execution_count": 33,
      "outputs": []
    },
    {
      "metadata": {
        "id": "XoK_1bQaTN65",
        "colab_type": "code",
        "colab": {}
      },
      "cell_type": "code",
      "source": [
        ""
      ],
      "execution_count": 0,
      "outputs": []
    },
    {
      "metadata": {
        "id": "ltho9phrbiYf",
        "colab_type": "code",
        "colab": {
          "base_uri": "https://localhost:8080/",
          "height": 37
        },
        "outputId": "4e818f81-24f9-4578-9be0-baa058c58687"
      },
      "cell_type": "code",
      "source": [
        "test = Data(id_num=90, label=None, tokens=\"😺\".split())\n",
        "# test = Data(id_num=91, label=None, tokens=\"🐶 🐶\".split()) \n",
        "# test = Data(id_num=92, label=None, tokens=\"🐶 😺\".split())\n",
        "# test = Data(id_num=93, label=None, tokens=\"🐈 🐈 🐶 🐶 🐩 🐯 🐯\".split())\n",
        "# test = Data(id_num=94, label=None, tokens=\"🐬\".split()) # Out of sample prediction"
      ],
      "execution_count": 41,
      "outputs": []
    },
    {
      "metadata": {
        "id": "m3smSANZbimJ",
        "colab_type": "code",
        "colab": {
          "base_uri": "https://localhost:8080/",
          "height": 34
        },
        "outputId": "89cdbce6-e76c-478e-b2ad-b974b7a973b5"
      },
      "cell_type": "code",
      "source": [
        "prod_predicted = defaultdict(float)\n",
        "for label in labels:\n",
        "  prod_predicted[label] = docs_priors[label] * product(cond_prob[label][t] for t in test.tokens)\n",
        "  \n",
        "prod_predicted"
      ],
      "execution_count": 42,
      "outputs": [
        {
          "output_type": "execute_result",
          "data": {
            "text/plain": [
              "defaultdict(float, {'cat': 0.09999999999999999, 'dog': 0.0})"
            ]
          },
          "metadata": {
            "tags": []
          },
          "execution_count": 42
        }
      ]
    },
    {
      "metadata": {
        "id": "UzL0Pfc5biqA",
        "colab_type": "code",
        "colab": {}
      },
      "cell_type": "code",
      "source": [
        ""
      ],
      "execution_count": 0,
      "outputs": []
    }
  ]
}